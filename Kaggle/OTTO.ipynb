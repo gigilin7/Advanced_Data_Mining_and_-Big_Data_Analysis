{
 "cells": [
  {
   "cell_type": "markdown",
   "id": "b1a33fb1",
   "metadata": {
    "papermill": {
     "duration": 0.004739,
     "end_time": "2023-01-09T17:24:53.528540",
     "exception": false,
     "start_time": "2023-01-09T17:24:53.523801",
     "status": "completed"
    },
    "tags": []
   },
   "source": [
    "In this notebook we will train a <code>Word2Vec</code> model, aproximated nearest neighbour model and test it on local validation set.\n",
    "\n",
    "We will use the <code>gensim</code> library for <code>Word2Vec</code>, aproximated nearest neighbour model form <code>annoy</code>.\n",
    "\n",
    "For this purpose, I used the [dataset](https://www.kaggle.com/datasets/radek1/otto-full-optimized-memory-footprint) provided by Radek Osmulski. The prepared sets allow you to test the developed recommendation system. The developed code in this notebook is based on the example prepared by Radek (see [nootebook](https://www.kaggle.com/code/radek1/word2vec-how-to-training-and-submission)). To improve the result obtained by the model, we introduce some modifications. For tips related to these parameters please see [notebook](https://www.kaggle.com/code/balaganiarz0/word2vec-model-local-validation)."
   ]
  },
  {
   "cell_type": "markdown",
   "id": "a5c4acea",
   "metadata": {
    "papermill": {
     "duration": 0.003337,
     "end_time": "2023-01-09T17:24:53.535783",
     "exception": false,
     "start_time": "2023-01-09T17:24:53.532446",
     "status": "completed"
    },
    "tags": []
   },
   "source": [
    "# Data preprocessing"
   ]
  },
  {
   "cell_type": "code",
   "execution_count": 1,
   "id": "5918653f",
   "metadata": {
    "_cell_guid": "b1076dfc-b9ad-4769-8c92-a6c4dae69d19",
    "_uuid": "8f2839f25d086af736a60e9eeb907d3b93b6e0e5",
    "execution": {
     "iopub.execute_input": "2023-01-09T17:24:53.545935Z",
     "iopub.status.busy": "2023-01-09T17:24:53.544914Z",
     "iopub.status.idle": "2023-01-09T17:25:24.707267Z",
     "shell.execute_reply": "2023-01-09T17:25:24.706086Z"
    },
    "papermill": {
     "duration": 31.170846,
     "end_time": "2023-01-09T17:25:24.710204",
     "exception": false,
     "start_time": "2023-01-09T17:24:53.539358",
     "status": "completed"
    },
    "tags": []
   },
   "outputs": [
    {
     "name": "stdout",
     "output_type": "stream",
     "text": [
      "Collecting polars\r\n",
      "  Downloading polars-0.15.14-cp37-abi3-manylinux_2_17_x86_64.manylinux2014_x86_64.whl (14.8 MB)\r\n",
      "\u001b[2K     \u001b[90m━━━━━━━━━━━━━━━━━━━━━━━━━━━━━━━━━━━━━━━━\u001b[0m \u001b[32m14.8/14.8 MB\u001b[0m \u001b[31m24.6 MB/s\u001b[0m eta \u001b[36m0:00:00\u001b[0m\r\n",
      "\u001b[?25hRequirement already satisfied: typing_extensions>=4.0.0 in /opt/conda/lib/python3.7/site-packages (from polars) (4.1.1)\r\n",
      "Installing collected packages: polars\r\n",
      "Successfully installed polars-0.15.14\r\n",
      "\u001b[33mWARNING: Running pip as the 'root' user can result in broken permissions and conflicting behaviour with the system package manager. It is recommended to use a virtual environment instead: https://pip.pypa.io/warnings/venv\u001b[0m\u001b[33m\r\n",
      "\u001b[0m"
     ]
    }
   ],
   "source": [
    "!pip install polars\n",
    "import gc\n",
    "import polars as pl\n",
    "from gensim.test.utils import common_texts\n",
    "from gensim.models import Word2Vec\n",
    "\n",
    "train = pl.read_parquet('../input/otto-full-optimized-memory-footprint/train.parquet')\n",
    "test = pl.read_parquet('../input/otto-full-optimized-memory-footprint/test.parquet')"
   ]
  },
  {
   "cell_type": "code",
   "execution_count": 2,
   "id": "c5fcf83b",
   "metadata": {
    "execution": {
     "iopub.execute_input": "2023-01-09T17:25:24.723625Z",
     "iopub.status.busy": "2023-01-09T17:25:24.722804Z",
     "iopub.status.idle": "2023-01-09T17:26:25.712878Z",
     "shell.execute_reply": "2023-01-09T17:26:25.711673Z"
    },
    "papermill": {
     "duration": 61.006049,
     "end_time": "2023-01-09T17:26:25.721718",
     "exception": false,
     "start_time": "2023-01-09T17:25:24.715669",
     "status": "completed"
    },
    "tags": []
   },
   "outputs": [
    {
     "data": {
      "text/plain": [
       "0"
      ]
     },
     "execution_count": 2,
     "metadata": {},
     "output_type": "execute_result"
    }
   ],
   "source": [
    "sentences_df =  pl.concat([train, test]).groupby('session').agg(\n",
    "    pl.col('aid').alias('sentence')\n",
    ")\n",
    "\n",
    "sentences = sentences_df['sentence'].to_list()\n",
    "del sentences_df; gc.collect() "
   ]
  },
  {
   "cell_type": "markdown",
   "id": "16d73bd8",
   "metadata": {
    "papermill": {
     "duration": 0.005167,
     "end_time": "2023-01-09T17:26:25.732399",
     "exception": false,
     "start_time": "2023-01-09T17:26:25.727232",
     "status": "completed"
    },
    "tags": []
   },
   "source": [
    "# Training word2vec model"
   ]
  },
  {
   "cell_type": "code",
   "execution_count": 3,
   "id": "d7708c8d",
   "metadata": {
    "execution": {
     "iopub.execute_input": "2023-01-09T17:26:25.745787Z",
     "iopub.status.busy": "2023-01-09T17:26:25.745356Z",
     "iopub.status.idle": "2023-01-09T19:12:02.200792Z",
     "shell.execute_reply": "2023-01-09T19:12:02.199557Z"
    },
    "papermill": {
     "duration": 6336.469724,
     "end_time": "2023-01-09T19:12:02.208265",
     "exception": false,
     "start_time": "2023-01-09T17:26:25.738541",
     "status": "completed"
    },
    "tags": []
   },
   "outputs": [
    {
     "name": "stdout",
     "output_type": "stream",
     "text": [
      "CPU times: user 6h 41min 10s, sys: 41.6 s, total: 6h 41min 51s\n",
      "Wall time: 1h 45min 36s\n"
     ]
    }
   ],
   "source": [
    "%%time\n",
    "\n",
    "w2vec = Word2Vec(sentences=sentences, vector_size= 64, window = 3, negative = 8, ns_exponent = 0.2, sg = 1, min_count=1, workers=4)"
   ]
  },
  {
   "cell_type": "markdown",
   "id": "2e3273a7",
   "metadata": {
    "papermill": {
     "duration": 0.005085,
     "end_time": "2023-01-09T19:12:02.218830",
     "exception": false,
     "start_time": "2023-01-09T19:12:02.213745",
     "status": "completed"
    },
    "tags": []
   },
   "source": [
    "# Preparing aproximated nearest neighbour model"
   ]
  },
  {
   "cell_type": "code",
   "execution_count": 4,
   "id": "c41877e8",
   "metadata": {
    "execution": {
     "iopub.execute_input": "2023-01-09T19:12:02.232811Z",
     "iopub.status.busy": "2023-01-09T19:12:02.232380Z",
     "iopub.status.idle": "2023-01-09T19:13:01.627606Z",
     "shell.execute_reply": "2023-01-09T19:13:01.626379Z"
    },
    "papermill": {
     "duration": 59.410491,
     "end_time": "2023-01-09T19:13:01.635265",
     "exception": false,
     "start_time": "2023-01-09T19:12:02.224774",
     "status": "completed"
    },
    "tags": []
   },
   "outputs": [
    {
     "name": "stdout",
     "output_type": "stream",
     "text": [
      "CPU times: user 3min 2s, sys: 2.01 s, total: 3min 4s\n",
      "Wall time: 59.3 s\n"
     ]
    },
    {
     "data": {
      "text/plain": [
       "True"
      ]
     },
     "execution_count": 4,
     "metadata": {},
     "output_type": "execute_result"
    }
   ],
   "source": [
    "%%time\n",
    "\n",
    "from annoy import AnnoyIndex\n",
    "\n",
    "aid2idx = {aid: i for i, aid in enumerate(w2vec.wv.index_to_key)}\n",
    "index = AnnoyIndex(64, 'euclidean')\n",
    "\n",
    "for aid, idx in aid2idx.items():\n",
    "    index.add_item(idx, w2vec.wv.vectors[idx])\n",
    "    \n",
    "index.build(32)"
   ]
  },
  {
   "cell_type": "markdown",
   "id": "582a8f11",
   "metadata": {
    "papermill": {
     "duration": 0.00527,
     "end_time": "2023-01-09T19:13:01.646231",
     "exception": false,
     "start_time": "2023-01-09T19:13:01.640961",
     "status": "completed"
    },
    "tags": []
   },
   "source": [
    "# Creating aids predictions"
   ]
  },
  {
   "cell_type": "code",
   "execution_count": 5,
   "id": "f9c56189",
   "metadata": {
    "execution": {
     "iopub.execute_input": "2023-01-09T19:13:01.659132Z",
     "iopub.status.busy": "2023-01-09T19:13:01.658760Z",
     "iopub.status.idle": "2023-01-09T19:14:01.938373Z",
     "shell.execute_reply": "2023-01-09T19:14:01.937195Z"
    },
    "papermill": {
     "duration": 60.290252,
     "end_time": "2023-01-09T19:14:01.941996",
     "exception": false,
     "start_time": "2023-01-09T19:13:01.651744",
     "status": "completed"
    },
    "tags": []
   },
   "outputs": [],
   "source": [
    "import pandas as pd\n",
    "import numpy as np\n",
    "\n",
    "from collections import defaultdict\n",
    "import collections\n",
    "\n",
    "session_types = ['clicks', 'carts', 'orders']\n",
    "test_session_AIDs = test.to_pandas().reset_index(drop=True).groupby('session')['aid'].apply(list)\n",
    "test_session_types = test.to_pandas().reset_index(drop=True).groupby('session')['type'].apply(list)"
   ]
  },
  {
   "cell_type": "code",
   "execution_count": 6,
   "id": "b9df5313",
   "metadata": {
    "execution": {
     "iopub.execute_input": "2023-01-09T19:14:01.963301Z",
     "iopub.status.busy": "2023-01-09T19:14:01.962402Z",
     "iopub.status.idle": "2023-01-09T19:20:52.064253Z",
     "shell.execute_reply": "2023-01-09T19:20:52.062915Z"
    },
    "papermill": {
     "duration": 410.114217,
     "end_time": "2023-01-09T19:20:52.067248",
     "exception": false,
     "start_time": "2023-01-09T19:14:01.953031",
     "status": "completed"
    },
    "tags": []
   },
   "outputs": [],
   "source": [
    "labels = []\n",
    "\n",
    "type_weight_multipliers = {0: 1, 1: 6, 2: 3}\n",
    "\n",
    "session_num = len(test_session_AIDs)\n",
    "\n",
    "for AIDs, types in zip(test_session_AIDs[:session_num], test_session_types[:session_num]):\n",
    "    if len(AIDs) >= 20:\n",
    "        # if we have enough aids (over equals 20) we don't need to look for candidates! we just use the old logic\n",
    "        weights=np.logspace(0.1,1,len(AIDs),base=2, endpoint=True)-1\n",
    "        aids_temp=defaultdict(lambda: 0)\n",
    "        for aid,w,t in zip(AIDs,weights,types): \n",
    "            aids_temp[aid]+= w * type_weight_multipliers[t]\n",
    "            \n",
    "        sorted_aids=[k for k, v in sorted(aids_temp.items(), key=lambda item: -item[1])]\n",
    "        labels.append(sorted_aids[:20])\n",
    "    else:\n",
    "        # here we don't have 20 aids to output -- we will use word2vec embeddings to generate candidates!\n",
    "        AIDs = list(dict.fromkeys(AIDs[::-1]))\n",
    "        \n",
    "        # let's grab the up to 3 recent aids\n",
    "        recent_len = max(min(3,len(AIDs)),1)\n",
    "        \n",
    "        # how many aids for each aid\n",
    "        AIDs_num = round((20-len(AIDs))/recent_len) + 2\n",
    "        \n",
    "        # let's look for some neighbors!        \n",
    "        nns_it = []\n",
    "        for it in range(0,recent_len):\n",
    "            nns_it += [w2vec.wv.index_to_key[i] for i in index.get_nns_by_item(aid2idx[AIDs[it]], AIDs_num)[1:]]\n",
    "        \n",
    "        # select repeating and unique neighbors\n",
    "        nns_repeated = [item for item, count in collections.Counter(nns_it).items() if count > 1]\n",
    "        nns_once = [item for item, count in collections.Counter(nns_it).items() if count == 1]\n",
    "\n",
    "        # prepare selection\n",
    "        nns = (nns_repeated+nns_once)[:20]\n",
    "        labels.append((AIDs+nns)[:20])"
   ]
  },
  {
   "cell_type": "markdown",
   "id": "e87bd14d",
   "metadata": {
    "papermill": {
     "duration": 0.005767,
     "end_time": "2023-01-09T19:20:52.079390",
     "exception": false,
     "start_time": "2023-01-09T19:20:52.073623",
     "status": "completed"
    },
    "tags": []
   },
   "source": [
    "# Preparing submission dataframe"
   ]
  },
  {
   "cell_type": "code",
   "execution_count": 7,
   "id": "947989b6",
   "metadata": {
    "execution": {
     "iopub.execute_input": "2023-01-09T19:20:52.093205Z",
     "iopub.status.busy": "2023-01-09T19:20:52.092784Z",
     "iopub.status.idle": "2023-01-09T19:21:39.171915Z",
     "shell.execute_reply": "2023-01-09T19:21:39.170743Z"
    },
    "papermill": {
     "duration": 47.093493,
     "end_time": "2023-01-09T19:21:39.179044",
     "exception": false,
     "start_time": "2023-01-09T19:20:52.085551",
     "status": "completed"
    },
    "tags": []
   },
   "outputs": [
    {
     "data": {
      "text/plain": [
       "0"
      ]
     },
     "execution_count": 7,
     "metadata": {},
     "output_type": "execute_result"
    }
   ],
   "source": [
    "labels_as_strings = [' '.join([str(l) for l in lls]) for lls in labels]\n",
    "\n",
    "predictions = pd.DataFrame(data={'session_type': test_session_AIDs.index, 'labels': labels_as_strings})\n",
    "\n",
    "prediction_dfs = []\n",
    "\n",
    "for st in session_types:\n",
    "    modified_predictions = predictions.copy()\n",
    "    modified_predictions.session_type = modified_predictions.session_type.astype('str') + f'_{st}'\n",
    "    prediction_dfs.append(modified_predictions)\n",
    "\n",
    "submission = pd.concat(prediction_dfs).reset_index(drop=True)\n",
    "submission.to_csv('submission.csv', index=False)\n",
    "\n",
    "del labels, labels_as_strings, predictions, prediction_dfs\n",
    "gc.collect()"
   ]
  },
  {
   "cell_type": "code",
   "execution_count": 8,
   "id": "fd499945",
   "metadata": {
    "execution": {
     "iopub.execute_input": "2023-01-09T19:21:39.192530Z",
     "iopub.status.busy": "2023-01-09T19:21:39.192086Z",
     "iopub.status.idle": "2023-01-09T19:21:39.207384Z",
     "shell.execute_reply": "2023-01-09T19:21:39.205999Z"
    },
    "papermill": {
     "duration": 0.026233,
     "end_time": "2023-01-09T19:21:39.211148",
     "exception": false,
     "start_time": "2023-01-09T19:21:39.184915",
     "status": "completed"
    },
    "tags": []
   },
   "outputs": [
    {
     "data": {
      "text/html": [
       "<div>\n",
       "<style scoped>\n",
       "    .dataframe tbody tr th:only-of-type {\n",
       "        vertical-align: middle;\n",
       "    }\n",
       "\n",
       "    .dataframe tbody tr th {\n",
       "        vertical-align: top;\n",
       "    }\n",
       "\n",
       "    .dataframe thead th {\n",
       "        text-align: right;\n",
       "    }\n",
       "</style>\n",
       "<table border=\"1\" class=\"dataframe\">\n",
       "  <thead>\n",
       "    <tr style=\"text-align: right;\">\n",
       "      <th></th>\n",
       "      <th>session_type</th>\n",
       "      <th>labels</th>\n",
       "    </tr>\n",
       "  </thead>\n",
       "  <tbody>\n",
       "    <tr>\n",
       "      <th>0</th>\n",
       "      <td>12899779_clicks</td>\n",
       "      <td>59625 509607 943880 345122 1212829 559524 1548...</td>\n",
       "    </tr>\n",
       "    <tr>\n",
       "      <th>1</th>\n",
       "      <td>12899780_clicks</td>\n",
       "      <td>1142000 736515 973453 582732 889686 487136 136...</td>\n",
       "    </tr>\n",
       "    <tr>\n",
       "      <th>2</th>\n",
       "      <td>12899781_clicks</td>\n",
       "      <td>918667 199008 194067 57315 141736 1119163 1228...</td>\n",
       "    </tr>\n",
       "    <tr>\n",
       "      <th>3</th>\n",
       "      <td>12899782_clicks</td>\n",
       "      <td>834354 595994 740494 889671 987399 779477 1344...</td>\n",
       "    </tr>\n",
       "    <tr>\n",
       "      <th>4</th>\n",
       "      <td>12899783_clicks</td>\n",
       "      <td>1817895 607638 1754419 1216820 1729553 300127 ...</td>\n",
       "    </tr>\n",
       "  </tbody>\n",
       "</table>\n",
       "</div>"
      ],
      "text/plain": [
       "      session_type                                             labels\n",
       "0  12899779_clicks  59625 509607 943880 345122 1212829 559524 1548...\n",
       "1  12899780_clicks  1142000 736515 973453 582732 889686 487136 136...\n",
       "2  12899781_clicks  918667 199008 194067 57315 141736 1119163 1228...\n",
       "3  12899782_clicks  834354 595994 740494 889671 987399 779477 1344...\n",
       "4  12899783_clicks  1817895 607638 1754419 1216820 1729553 300127 ..."
      ]
     },
     "execution_count": 8,
     "metadata": {},
     "output_type": "execute_result"
    }
   ],
   "source": [
    "submission.head()"
   ]
  },
  {
   "cell_type": "markdown",
   "id": "e54f431a",
   "metadata": {
    "papermill": {
     "duration": 0.005823,
     "end_time": "2023-01-09T19:21:39.223645",
     "exception": false,
     "start_time": "2023-01-09T19:21:39.217822",
     "status": "completed"
    },
    "tags": []
   },
   "source": [
    "Wishing you all the best in the challenge! 🤞"
   ]
  }
 ],
 "metadata": {
  "kernelspec": {
   "display_name": "Python 3",
   "language": "python",
   "name": "python3"
  },
  "language_info": {
   "codemirror_mode": {
    "name": "ipython",
    "version": 3
   },
   "file_extension": ".py",
   "mimetype": "text/x-python",
   "name": "python",
   "nbconvert_exporter": "python",
   "pygments_lexer": "ipython3",
   "version": "3.7.12"
  },
  "papermill": {
   "default_parameters": {},
   "duration": 7020.145743,
   "end_time": "2023-01-09T19:21:43.673487",
   "environment_variables": {},
   "exception": null,
   "input_path": "__notebook__.ipynb",
   "output_path": "__notebook__.ipynb",
   "parameters": {},
   "start_time": "2023-01-09T17:24:43.527744",
   "version": "2.3.4"
  }
 },
 "nbformat": 4,
 "nbformat_minor": 5
}
